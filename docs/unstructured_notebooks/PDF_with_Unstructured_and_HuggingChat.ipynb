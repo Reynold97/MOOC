{
  "nbformat": 4,
  "nbformat_minor": 0,
  "metadata": {
    "colab": {
      "provenance": []
    },
    "kernelspec": {
      "name": "python3",
      "display_name": "Python 3"
    },
    "language_info": {
      "name": "python"
    }
  },
  "cells": [
    {
      "cell_type": "markdown",
      "source": [
        "# PDF processing with Unstructured and querying with HuggingChat\n",
        "\n",
        "This sample notebook sends a PDF file to [Unstructured API services](https://docs.unstructured.io/api-reference/api-services/overview) for processing. Unstructured processes the PDF and extracts the PDF's content. The notebook then sends some of the content to [HuggingChat](https://huggingface.co/chat/), Hugging Face's open-source AI chatbot, along with some queries about this content."
      ],
      "metadata": {
        "id": "_RZcS5ZqayfA"
      }
    },
    {
      "cell_type": "markdown",
      "source": [
        "## Step 1: Install the Unstructured and HuggingChat libraries\n",
        "\n",
        "---\n",
        "\n"
      ],
      "metadata": {
        "id": "4ka1Nv0MC225"
      }
    },
    {
      "cell_type": "code",
      "execution_count": null,
      "metadata": {
        "id": "3RQf3-ZuXKG7",
        "colab": {
          "base_uri": "https://localhost:8080/"
        },
        "outputId": "85d2f8d1-45de-4c76-c05e-305cc707c58a"
      },
      "outputs": [
        {
          "output_type": "stream",
          "name": "stdout",
          "text": [
            "Requirement already satisfied: unstructured-ingest[remote] in /usr/local/lib/python3.10/dist-packages (0.0.6)\n",
            "Requirement already satisfied: tqdm in /usr/local/lib/python3.10/dist-packages (from unstructured-ingest[remote]) (4.66.5)\n",
            "Requirement already satisfied: pandas in /usr/local/lib/python3.10/dist-packages (from unstructured-ingest[remote]) (2.1.4)\n",
            "Requirement already satisfied: dataclasses-json in /usr/local/lib/python3.10/dist-packages (from unstructured-ingest[remote]) (0.6.7)\n",
            "Requirement already satisfied: click in /usr/local/lib/python3.10/dist-packages (from unstructured-ingest[remote]) (8.1.7)\n",
            "Requirement already satisfied: pydantic in /usr/local/lib/python3.10/dist-packages (from unstructured-ingest[remote]) (2.8.2)\n",
            "Requirement already satisfied: python-dateutil in /usr/local/lib/python3.10/dist-packages (from unstructured-ingest[remote]) (2.8.2)\n",
            "Collecting unstructured-client>=0.23.0 (from unstructured-ingest[remote])\n",
            "  Downloading unstructured_client-0.25.5-py3-none-any.whl.metadata (13 kB)\n",
            "Requirement already satisfied: certifi>=2023.7.22 in /usr/local/lib/python3.10/dist-packages (from unstructured-client>=0.23.0->unstructured-ingest[remote]) (2024.7.4)\n",
            "Requirement already satisfied: charset-normalizer>=3.2.0 in /usr/local/lib/python3.10/dist-packages (from unstructured-client>=0.23.0->unstructured-ingest[remote]) (3.3.2)\n",
            "Collecting deepdiff>=6.0 (from unstructured-client>=0.23.0->unstructured-ingest[remote])\n",
            "  Downloading deepdiff-7.0.1-py3-none-any.whl.metadata (6.8 kB)\n",
            "Collecting httpx>=0.27.0 (from unstructured-client>=0.23.0->unstructured-ingest[remote])\n",
            "  Downloading httpx-0.27.0-py3-none-any.whl.metadata (7.2 kB)\n",
            "Requirement already satisfied: idna>=3.4 in /usr/local/lib/python3.10/dist-packages (from unstructured-client>=0.23.0->unstructured-ingest[remote]) (3.7)\n",
            "Collecting jsonpath-python>=1.0.6 (from unstructured-client>=0.23.0->unstructured-ingest[remote])\n",
            "  Downloading jsonpath_python-1.0.6-py3-none-any.whl.metadata (12 kB)\n",
            "Requirement already satisfied: marshmallow>=3.19.0 in /usr/local/lib/python3.10/dist-packages (from unstructured-client>=0.23.0->unstructured-ingest[remote]) (3.22.0)\n",
            "Requirement already satisfied: mypy-extensions>=1.0.0 in /usr/local/lib/python3.10/dist-packages (from unstructured-client>=0.23.0->unstructured-ingest[remote]) (1.0.0)\n",
            "Requirement already satisfied: nest-asyncio>=1.6.0 in /usr/local/lib/python3.10/dist-packages (from unstructured-client>=0.23.0->unstructured-ingest[remote]) (1.6.0)\n",
            "Requirement already satisfied: packaging>=23.1 in /usr/local/lib/python3.10/dist-packages (from unstructured-client>=0.23.0->unstructured-ingest[remote]) (24.1)\n",
            "Collecting pypdf>=4.0 (from unstructured-client>=0.23.0->unstructured-ingest[remote])\n",
            "  Downloading pypdf-4.3.1-py3-none-any.whl.metadata (7.4 kB)\n",
            "Requirement already satisfied: requests>=2.31.0 in /usr/local/lib/python3.10/dist-packages (from unstructured-client>=0.23.0->unstructured-ingest[remote]) (2.32.3)\n",
            "Requirement already satisfied: requests-toolbelt>=1.0.0 in /usr/local/lib/python3.10/dist-packages (from unstructured-client>=0.23.0->unstructured-ingest[remote]) (1.0.0)\n",
            "Requirement already satisfied: six>=1.16.0 in /usr/local/lib/python3.10/dist-packages (from unstructured-client>=0.23.0->unstructured-ingest[remote]) (1.16.0)\n",
            "Requirement already satisfied: typing-inspect>=0.9.0 in /usr/local/lib/python3.10/dist-packages (from unstructured-client>=0.23.0->unstructured-ingest[remote]) (0.9.0)\n",
            "Requirement already satisfied: typing-extensions>=4.7.1 in /usr/local/lib/python3.10/dist-packages (from unstructured-client>=0.23.0->unstructured-ingest[remote]) (4.12.2)\n",
            "Requirement already satisfied: urllib3>=1.26.18 in /usr/local/lib/python3.10/dist-packages (from unstructured-client>=0.23.0->unstructured-ingest[remote]) (2.0.7)\n",
            "Requirement already satisfied: numpy<2,>=1.22.4 in /usr/local/lib/python3.10/dist-packages (from pandas->unstructured-ingest[remote]) (1.26.4)\n",
            "Requirement already satisfied: pytz>=2020.1 in /usr/local/lib/python3.10/dist-packages (from pandas->unstructured-ingest[remote]) (2024.1)\n",
            "Requirement already satisfied: tzdata>=2022.1 in /usr/local/lib/python3.10/dist-packages (from pandas->unstructured-ingest[remote]) (2024.1)\n",
            "Requirement already satisfied: annotated-types>=0.4.0 in /usr/local/lib/python3.10/dist-packages (from pydantic->unstructured-ingest[remote]) (0.7.0)\n",
            "Requirement already satisfied: pydantic-core==2.20.1 in /usr/local/lib/python3.10/dist-packages (from pydantic->unstructured-ingest[remote]) (2.20.1)\n",
            "Collecting ordered-set<4.2.0,>=4.1.0 (from deepdiff>=6.0->unstructured-client>=0.23.0->unstructured-ingest[remote])\n",
            "  Downloading ordered_set-4.1.0-py3-none-any.whl.metadata (5.3 kB)\n",
            "Requirement already satisfied: anyio in /usr/local/lib/python3.10/dist-packages (from httpx>=0.27.0->unstructured-client>=0.23.0->unstructured-ingest[remote]) (3.7.1)\n",
            "Collecting httpcore==1.* (from httpx>=0.27.0->unstructured-client>=0.23.0->unstructured-ingest[remote])\n",
            "  Downloading httpcore-1.0.5-py3-none-any.whl.metadata (20 kB)\n",
            "Requirement already satisfied: sniffio in /usr/local/lib/python3.10/dist-packages (from httpx>=0.27.0->unstructured-client>=0.23.0->unstructured-ingest[remote]) (1.3.1)\n",
            "Collecting h11<0.15,>=0.13 (from httpcore==1.*->httpx>=0.27.0->unstructured-client>=0.23.0->unstructured-ingest[remote])\n",
            "  Downloading h11-0.14.0-py3-none-any.whl.metadata (8.2 kB)\n",
            "Requirement already satisfied: exceptiongroup in /usr/local/lib/python3.10/dist-packages (from anyio->httpx>=0.27.0->unstructured-client>=0.23.0->unstructured-ingest[remote]) (1.2.2)\n",
            "Downloading unstructured_client-0.25.5-py3-none-any.whl (43 kB)\n",
            "\u001b[2K   \u001b[90m━━━━━━━━━━━━━━━━━━━━━━━━━━━━━━━━━━━━━━━━\u001b[0m \u001b[32m43.9/43.9 kB\u001b[0m \u001b[31m2.5 MB/s\u001b[0m eta \u001b[36m0:00:00\u001b[0m\n",
            "\u001b[?25hDownloading deepdiff-7.0.1-py3-none-any.whl (80 kB)\n",
            "\u001b[2K   \u001b[90m━━━━━━━━━━━━━━━━━━━━━━━━━━━━━━━━━━━━━━━━\u001b[0m \u001b[32m80.8/80.8 kB\u001b[0m \u001b[31m6.3 MB/s\u001b[0m eta \u001b[36m0:00:00\u001b[0m\n",
            "\u001b[?25hDownloading httpx-0.27.0-py3-none-any.whl (75 kB)\n",
            "\u001b[2K   \u001b[90m━━━━━━━━━━━━━━━━━━━━━━━━━━━━━━━━━━━━━━━━\u001b[0m \u001b[32m75.6/75.6 kB\u001b[0m \u001b[31m5.7 MB/s\u001b[0m eta \u001b[36m0:00:00\u001b[0m\n",
            "\u001b[?25hDownloading httpcore-1.0.5-py3-none-any.whl (77 kB)\n",
            "\u001b[2K   \u001b[90m━━━━━━━━━━━━━━━━━━━━━━━━━━━━━━━━━━━━━━━━\u001b[0m \u001b[32m77.9/77.9 kB\u001b[0m \u001b[31m5.7 MB/s\u001b[0m eta \u001b[36m0:00:00\u001b[0m\n",
            "\u001b[?25hDownloading jsonpath_python-1.0.6-py3-none-any.whl (7.6 kB)\n",
            "Downloading pypdf-4.3.1-py3-none-any.whl (295 kB)\n",
            "\u001b[2K   \u001b[90m━━━━━━━━━━━━━━━━━━━━━━━━━━━━━━━━━━━━━━━━\u001b[0m \u001b[32m295.8/295.8 kB\u001b[0m \u001b[31m18.0 MB/s\u001b[0m eta \u001b[36m0:00:00\u001b[0m\n",
            "\u001b[?25hDownloading ordered_set-4.1.0-py3-none-any.whl (7.6 kB)\n",
            "Downloading h11-0.14.0-py3-none-any.whl (58 kB)\n",
            "\u001b[2K   \u001b[90m━━━━━━━━━━━━━━━━━━━━━━━━━━━━━━━━━━━━━━━━\u001b[0m \u001b[32m58.3/58.3 kB\u001b[0m \u001b[31m4.5 MB/s\u001b[0m eta \u001b[36m0:00:00\u001b[0m\n",
            "\u001b[?25hInstalling collected packages: pypdf, ordered-set, jsonpath-python, h11, httpcore, deepdiff, httpx, unstructured-client\n",
            "Successfully installed deepdiff-7.0.1 h11-0.14.0 httpcore-1.0.5 httpx-0.27.0 jsonpath-python-1.0.6 ordered-set-4.1.0 pypdf-4.3.1 unstructured-client-0.25.5\n"
          ]
        }
      ],
      "source": [
        "%pip install -q unstructured-ingest\n",
        "%pip install \"unstructured-ingest[remote]\"\n",
        "%pip install -q hugchat"
      ]
    },
    {
      "cell_type": "markdown",
      "source": [
        "## Step 2: Set imports\n",
        "\n",
        "---"
      ],
      "metadata": {
        "id": "_bebZJLeDOxl"
      }
    },
    {
      "cell_type": "code",
      "source": [
        "from unstructured_ingest.v2.pipeline.pipeline import Pipeline\n",
        "from unstructured_ingest.v2.interfaces import ProcessorConfig\n",
        "from unstructured_ingest.v2.processes.connectors.local import (\n",
        "    LocalIndexerConfig,\n",
        "    LocalDownloaderConfig,\n",
        "    LocalConnectionConfig,\n",
        "    LocalUploaderConfig\n",
        ")\n",
        "from unstructured_ingest.v2.processes.partitioner import PartitionerConfig\n",
        "\n",
        "import os, json\n",
        "from hugchat import hugchat\n",
        "from hugchat.login import Login\n",
        "from google.colab import userdata"
      ],
      "metadata": {
        "id": "XDIm6joAX3dy"
      },
      "execution_count": null,
      "outputs": []
    },
    {
      "cell_type": "markdown",
      "source": [
        "## Step 3: Set your Unstructured API key and API URL\n",
        "\n",
        "---\n",
        "\n",
        "Get a key and URL:\n",
        "\n",
        "- Pay-as-you-go unlimited version: https://docs.unstructured.io/api-reference/api-services/saas-api-development-guide#get-started\n",
        "- Limited free version: https://docs.unstructured.io/api-reference/api-services/free-api#get-an-api-key\n",
        "\n",
        "Set the following secrets:\n",
        "\n",
        "- `UNSTRUCTURED_API_KEY` to your Unstructured API key.\n",
        "- `UNSTRUCTURED_API_URL` to your Unstructured API URL.\n",
        "\n",
        "To set these:\n",
        "\n",
        "1. On the left sidebar, click the **Secrets** icon.\n",
        "2. Enter each name/value pair above.\n",
        "3. Switch on the **Notebook access** toggle for each name/value pair."
      ],
      "metadata": {
        "id": "ksk0ORlfDVYE"
      }
    },
    {
      "cell_type": "markdown",
      "source": [
        "## Step 4: Set your Hugging Face account's email address and account password\n",
        "\n",
        "---\n",
        "\n",
        "Get a Hugging Face account: https://huggingface.co/join\n",
        "\n",
        "Set the following secrets:\n",
        "\n",
        "- `HUGGING_FACE_EMAIL` to your Hugging Face account's email address.\n",
        "- `HUGGING_FACE_PASSWORD` to your Hugging Face account's password.\n",
        "\n",
        "To set these:\n",
        "\n",
        "1. On the left sidebar, click the **Secrets** icon.\n",
        "2. Enter each name/value pair above.\n",
        "3. Switch on the **Notebook access** toggle for each name/value pair."
      ],
      "metadata": {
        "id": "N_MStmzPD5kk"
      }
    },
    {
      "cell_type": "markdown",
      "source": [
        "## Step 5: Upload a PDF file for Unstructured to process\n",
        "\n",
        "---\n",
        "\n",
        "Upload a PDF file before continuing.\n",
        "\n",
        "For example, you can run the following cell to upload a sample PDF file containing the text of the United States Constitution, from https://constitutioncenter.org/media/files/constitution.pdf, into Google Collab session storage.\n",
        "\n",
        "Or, you can upload a different file into Google Collab session storage:\n",
        "\n",
        "1. On the left sidebar, click the **Files** icon.\n",
        "2. Click the **Upload to session storage** icon.\n",
        "\n",
        "Then, provide the filename of the PDF file that was uploaded."
      ],
      "metadata": {
        "id": "ztuBZFDzEOsG"
      }
    },
    {
      "cell_type": "code",
      "source": [
        "!wget https://constitutioncenter.org/media/files/constitution.pdf"
      ],
      "metadata": {
        "colab": {
          "base_uri": "https://localhost:8080/"
        },
        "id": "XVOoxch1vasR",
        "outputId": "ac2b30d0-65d2-40e4-d7e1-eea05311b484"
      },
      "execution_count": null,
      "outputs": [
        {
          "output_type": "stream",
          "name": "stdout",
          "text": [
            "--2024-08-23 17:11:41--  https://constitutioncenter.org/media/files/constitution.pdf\n",
            "Resolving constitutioncenter.org (constitutioncenter.org)... 172.67.42.106, 104.22.22.181, 104.22.23.181, ...\n",
            "Connecting to constitutioncenter.org (constitutioncenter.org)|172.67.42.106|:443... connected.\n",
            "HTTP request sent, awaiting response... 200 OK\n",
            "Length: 413949 (404K) [application/pdf]\n",
            "Saving to: ‘constitution.pdf’\n",
            "\n",
            "\rconstitution.pdf      0%[                    ]       0  --.-KB/s               \rconstitution.pdf    100%[===================>] 404.25K  --.-KB/s    in 0.005s  \n",
            "\n",
            "2024-08-23 17:11:41 (80.4 MB/s) - ‘constitution.pdf’ saved [413949/413949]\n",
            "\n"
          ]
        }
      ]
    },
    {
      "cell_type": "markdown",
      "source": [
        "## Step 6: Provide a function to process the document\n",
        "\n",
        "---\n",
        "\n"
      ],
      "metadata": {
        "id": "vYy3KzdYMKFO"
      }
    },
    {
      "cell_type": "code",
      "source": [
        "def generate_json_from_local(\n",
        "        input_path: str,\n",
        "        output_dir: str,\n",
        "        parition_by_api: bool = False,\n",
        "        api_key: str = None,\n",
        "        partition_endpoint: str = None,\n",
        "        split_pdf_page: bool = True,\n",
        "        split_pdf_allow_failed: bool = True,\n",
        "        split_pdf_concurrency_level: int = 15\n",
        "    ):\n",
        "    Pipeline.from_configs(\n",
        "        context=ProcessorConfig(),\n",
        "        indexer_config=LocalIndexerConfig(input_path=input_path),\n",
        "        downloader_config=LocalDownloaderConfig(),\n",
        "        source_connection_config=LocalConnectionConfig(),\n",
        "        partitioner_config=PartitionerConfig(\n",
        "            partition_by_api=parition_by_api,\n",
        "            api_key=api_key,\n",
        "            partition_endpoint=partition_endpoint,\n",
        "            additional_partition_args={\n",
        "                \"split_pdf_page\": split_pdf_page,\n",
        "                \"split_pdf_allow_failed\": split_pdf_allow_failed,\n",
        "                \"split_pdf_concurrency_level\": split_pdf_concurrency_level\n",
        "            }\n",
        "        ),\n",
        "        uploader_config=LocalUploaderConfig(output_dir=output_dir)\n",
        "    ).run()"
      ],
      "metadata": {
        "id": "HajaUdL1MZm7"
      },
      "execution_count": null,
      "outputs": []
    },
    {
      "cell_type": "markdown",
      "source": [
        "## Step 7: Provide a function to extract matching texts from the processed data\n",
        "\n",
        "---"
      ],
      "metadata": {
        "id": "e7CTjilVMdQ5"
      }
    },
    {
      "cell_type": "code",
      "source": [
        "def extract_matching_texts_from_local(input_json_file_path: str, text_to_match: str) -> str:\n",
        "    voting_texts = \"\"\n",
        "\n",
        "    with open(input_json_file_path, 'r') as file:\n",
        "        file_elements = json.load(file)\n",
        "\n",
        "    for element in file_elements:\n",
        "        if text_to_match in element[\"text\"]:\n",
        "            voting_texts += \" \" + element[\"text\"]\n",
        "\n",
        "    return voting_texts"
      ],
      "metadata": {
        "id": "r6gQ6eVhMneq"
      },
      "execution_count": null,
      "outputs": []
    },
    {
      "cell_type": "markdown",
      "source": [
        "## Step 8: Provide a function to log in to your Hugging Face account\n",
        "\n",
        "---"
      ],
      "metadata": {
        "id": "svT9o8viE62X"
      }
    },
    {
      "cell_type": "code",
      "source": [
        "def log_in_to_hugging_face(email: str, passwd: str, cookie_dir_path: str) -> hugchat.ChatBot:\n",
        "    sign = Login(\n",
        "        email=email,\n",
        "        passwd=passwd\n",
        "    )\n",
        "\n",
        "    cookies = sign.login(cookie_dir_path=cookie_dir_path)\n",
        "\n",
        "    return hugchat.ChatBot(cookies=cookies.get_dict())"
      ],
      "metadata": {
        "id": "fVN5TRcNYJJ7"
      },
      "execution_count": null,
      "outputs": []
    },
    {
      "cell_type": "markdown",
      "source": [
        "## Step 9: Process the PDF and chat about it with HuggingChat\n",
        "\n",
        "---\n",
        "\n",
        "This code:\n",
        "\n",
        "1. Sends the PDF to Unstructured for processing. Unstructured then sends the processed data back.\n",
        "2. Gathers all texts from the processed data that cover voting, such as texts that contain the strings \"vote\", \"voted\", and \"voting\".\n",
        "3. Logs in to your Hugging Face account.\n",
        "4. Sends the matching texts to HuggingChat along with some queries about the text."
      ],
      "metadata": {
        "id": "xiKwJHjIFGDr"
      }
    },
    {
      "cell_type": "code",
      "source": [
        "generate_json_from_local(\n",
        "    input_path=\"constitution.pdf\",\n",
        "    output_dir=\".\",\n",
        "    parition_by_api=True,\n",
        "    api_key=userdata.get(\"UNSTRUCTURED_API_KEY\"),\n",
        "    partition_endpoint=userdata.get(\"UNSTRUCTURED_API_URL\")\n",
        ")\n",
        "\n",
        "chatbot = log_in_to_hugging_face(\n",
        "    email=userdata.get(\"HUGGING_FACE_EMAIL\"),\n",
        "    passwd=userdata.get(\"HUGGING_FACE_PASSWORD\"),\n",
        "    cookie_dir_path=\"./cookies/\"\n",
        ")\n",
        "\n",
        "voting_texts = extract_matching_texts_from_local(\n",
        "    input_json_file_path=\"constitution.pdf.json\",\n",
        "    text_to_match=\"vot\"\n",
        ")\n",
        "\n",
        "print(\"\\n-----\\n\")\n",
        "print(\"Querying HuggingChat...\")\n",
        "print(\"\\n-----\\n\")\n",
        "\n",
        "req = f\"Given the following information, what is the minimum voting age in the United States? {voting_texts}\"\n",
        "print(req)\n",
        "print(\"\\n-----\\n\")\n",
        "print(chatbot.chat(text=req))\n",
        "\n",
        "print(\"\\n-----\\n\")\n",
        "print(\"Querying HuggingChat again...\")\n",
        "print(\"\\n-----\\n\")\n",
        "\n",
        "follow_up = \"And when were women given the right to vote in the United States?\"\n",
        "print(follow_up)\n",
        "print(\"\\n-----\\n\")\n",
        "\n",
        "print(chatbot.chat(text=follow_up))"
      ],
      "metadata": {
        "id": "1qokj3rLYxu4",
        "colab": {
          "base_uri": "https://localhost:8080/"
        },
        "outputId": "7c379dab-eb1e-4172-c704-5160df7723cc"
      },
      "execution_count": null,
      "outputs": [
        {
          "output_type": "stream",
          "name": "stderr",
          "text": [
            "2024-08-23 17:22:03,114 MainProcess INFO     Created index with configs: {\"input_path\": \"constitution.pdf\", \"recursive\": false}, connection configs: {\"access_config\": \"**********\"}\n",
            "2024-08-23 17:22:03,117 MainProcess INFO     Created download with configs: {\"download_dir\": null}, connection configs: {\"access_config\": \"**********\"}\n",
            "2024-08-23 17:22:03,120 MainProcess INFO     Created partition with configs: {\"strategy\": \"auto\", \"ocr_languages\": null, \"encoding\": null, \"additional_partition_args\": {\"split_pdf_page\": true, \"split_pdf_allow_failed\": true, \"split_pdf_concurrency_level\": 15}, \"skip_infer_table_types\": null, \"fields_include\": [\"element_id\", \"text\", \"type\", \"metadata\", \"embeddings\"], \"flatten_metadata\": false, \"metadata_exclude\": [], \"metadata_include\": [], \"partition_endpoint\": \"https://api.unstructured.io/general/v0/general\", \"partition_by_api\": true, \"api_key\": \"*******\", \"hi_res_model_name\": null}\n",
            "2024-08-23 17:22:03,123 MainProcess INFO     Created upload with configs: {\"output_dir\": \".\"}, connection configs: {\"access_config\": \"**********\"}\n",
            "2024-08-23 17:22:03,127 MainProcess INFO     Running local pipline: index (LocalIndexer) -> download (LocalDownloader) -> partition (auto) -> upload (LocalUploader) with configs: {\"reprocess\": false, \"verbose\": false, \"tqdm\": false, \"work_dir\": \"/root/.cache/unstructured/ingest/pipeline\", \"num_processes\": 2, \"max_connections\": null, \"raise_on_error\": false, \"disable_parallelism\": false, \"preserve_downloads\": false, \"download_only\": false, \"max_docs\": null, \"re_download\": false, \"uncompress\": false, \"status\": {}, \"semaphore\": null}\n",
            "2024-08-23 17:22:03,154 MainProcess WARNING  Couldn't detect date created: 'os.stat_result' object has no attribute 'st_birthtime'\n",
            "2024-08-23 17:22:03,162 MainProcess INFO     Calling DownloadStep with 1 docs\n",
            "2024-08-23 17:22:03,164 MainProcess INFO     processing content async\n",
            "2024-08-23 17:22:03,168 MainProcess WARNING  async code being run in dedicated thread pool to not conflict with existing event loop: <_UnixSelectorEventLoop running=True closed=False debug=False>\n",
            "2024-08-23 17:22:03,177 MainProcess INFO     DownloadStep [cls] took 0.015044450759887695 seconds\n",
            "2024-08-23 17:22:03,178 MainProcess INFO     Calling PartitionStep with 1 docs\n",
            "2024-08-23 17:22:03,180 MainProcess INFO     processing content async\n",
            "2024-08-23 17:22:03,182 MainProcess WARNING  async code being run in dedicated thread pool to not conflict with existing event loop: <_UnixSelectorEventLoop running=True closed=False debug=False>\n",
            "2024-08-23 17:22:03,192 MainProcess INFO     PartitionStep [cls] took 0.013363361358642578 seconds\n",
            "2024-08-23 17:22:03,193 MainProcess INFO     Calling UploadStep with 1 docs\n",
            "2024-08-23 17:22:03,201 MainProcess INFO     UploadStep [cls] took 0.008240938186645508 seconds\n",
            "2024-08-23 17:22:03,203 MainProcess INFO     Finished ingest process in 0.07660079002380371s\n"
          ]
        },
        {
          "output_type": "stream",
          "name": "stdout",
          "text": [
            "\n",
            "-----\n",
            "\n",
            "Querying HuggingChat...\n",
            "\n",
            "-----\n",
            "\n",
            "Given the following information, what is the minimum voting age in the United States?  Every Bill which shall have passed the House of Represen- tatives and the Senate, shall, before it become a Law, be presented to the President of the United States; If he ap- prove he shall sign it, but if not he shall return it, with his Objections to that House in which it shall have originated, who shall enter the Objections at large on their Journal, and proceed to reconsider it. If after such Reconsideration two thirds of that House shall agree to pass the Bill, it shall be sent, together with the Objections, to the other House, by which it shall likewise be reconsidered, and if approved by two thirds of that House, it shall become a Law. But in all such Cases the Votes of both Houses shall be determined by Yeas and Nays, and the Names of the Persons voting for and against the Bill shall be entered on the Journal of each House respectively, If any Bill shall not be returned by the President within ten Days (Sundays excepted) after it shall have been presented to him, the Same shall be a Law, in like Manner as if he had signed it, unless the Congress by their Adjournment prevent its Return, in which Case it shall not be a Law [The Electors shall meet in their respective States, and vote by Ballot for two Persons, of whom one at least shall not be an Inhabitant of the same State with themselves. And they shall make a List of all the Persons voted for, and of the Number of Votes for each; which List they shall sign and certify, and transmit sealed to the Seat of the Govern- ment of the United States, directed to the President of the Senate. The President of the Senate shall, in the Presence of the Senate and House of Representatives, open all the Certificates, and the Votes shall then be counted. The Person having the greatest Number of Votes shall be the President, if such Number be a Majority of the whole Number of Electors appointed; and if there be more than one who have such Majority, and have an equal Number of Votes, then the House of Representatives shall immediately chuse by Ballot one of them for President; and if no Person have a Majority, then from the five highest on the List the said House shall in like Manner chuse the President. But in chusing the President, the Votes shall be taken by States, the Representation from each State having one Vote; A quorum for this Purpose shall consist of a Member or Members from two thirds of the States, and a Majority of all the States shall be necessary to a Choice. In every Case, after the Choice of the President, the Person having the greatest Number of Votes of the Electors shall be the Vice President. But if there should remain two or more who have equal Votes, the Senate shall chuse from them by Bal- lot the Vice President.]* Resolved, That the preceeding Constitution be laid before the United States in Congress assembled, and that it is the Opinion of this Convention, that it should afterwards be submitted to a Convention of Delegates, chosen in each State by the People thereof, under the Recommendation of its Legisla- ture, for their Assent and Ratification; and that each Con- vention assenting to, and ratifying the Same, should give Notice thereof to the United States in Congress assembled. Resolved, That it is the Opinion of this Convention, that as soon as the Conventions of nine States shall have ratified this Constitution, the United States in Congress assembled should fix a Day on which Electors should be appointed by the States which shall have ratified the same, and a Day on which the Electors should assemble to vote for the Presi- dent, and the Time and Place for commencing Proceedings under this Constitution The Electors shall meet in their respective states, and vote by ballot for President and Vice-President, one of whom, at least, shall not be an inhabitant of the same state with themselves; they shall name in their ballots the person voted for as President, and in distinct ballots the person voted for as Vice-President, and they shall make distinct lists of all persons voted for as President, and of all persons voted for as Vice-President, and of the number of votes for each, which lists they shall sign and certify, and transmit sealed to the seat of the government of the United States, directed to the President of the Senate;-the President of the Senate shall, in the presence of the Senate and House of Represen- tatives, open all the certificates and the votes shall then be counted;-The person having the greatest number of votes for President, shall be the President, if such number be a majority of the whole number of Electors appointed; and if no person have such majority, then from the persons having the highest numbers not exceeding three on the list of those voted for as President, the House of Representatives shall choose immediately, by ballot, the President. But in choos- ing the President, the votes shall be taken by states, the representation from each state having one vote; a quorum for this purpose shall consist of a member or members from two-thirds of the states, and a majority of all the states shall be necessary to a choice. [And if the House of Representa- tives shall not choose a President whenever the right of choice shall devolve upon them, before the fourth day of March next following, then the Vice-President shall act as President, as in case of the death or other constitutional disability of the President.-]* The person having the greatest number of votes as Vice-President, shall be the Vice-Presi- dent, if such number be a majority of the whole number of Electors appointed, and if no person have a majority, then from the two highest numbers on the list, the Senate shall choose the Vice-President; a quorum for the purpose shall consist of two-thirds of the whole number of Senators, and a majority of the whole number shall be necessary to a choice. But no person constitutionally ineligible to the office of President shall be eligible to that of Vice-President of the United States. Representatives shall be apportioned among the several States according to their respective numbers, counting the whole number of persons in each State, excluding Indians not taxed. But when the right to vote at any election for the choice of electors for President and Vice President of the United States, Representatives in Congress, the Execu- tive and Judicial officers of a State, or the members of the Legislature thereof, is denied to any of the male inhabit- ants of such State, [being twenty-one years of age,]* and citizens of the United States, or in any way abridged, except for participation in rebellion, or other crime, the basis of representation therein shall be reduced in the proportion which the number of such male citizens shall bear to the whole number of male citizens twenty-one years of age in such State. No person shall be a Senator or Representative in Con- gress, or elector of President and Vice President, or hold any office, civil or military, under the United States, or under any State, who, having previously taken an oath, as a member of Congress, or as an officer of the United States, or as a member of any State legislature, or as an executive or judicial officer of any State, to support the Constitution of the United States, shall have engaged in insurrection or rebellion against the same, or given aid or comfort to the enemies thereof. But Congress may by a vote of two-thirds of each House, remove such disability. The right of citizens of the United States to vote shall not be denied or abridged by the United States or by any State on account of race, color, or previous condition of servitude. The Senate of the United States shall be composed of two Senators from each State, elected by the people thereof, for six years; and each Senator shall have one vote. The electors in each State shall have the qualifications requisite for elec- tors of the most numerous branch of the State legislatures. The right of citizens of the United States to vote shall not be denied or abridged by the United States or by any State on account of sex. The right of citizens of the United States to vote in any pri- mary or other election for President or Vice President, for electors for President or Vice President, or for Senator or Representative in Congress, shall not be denied or abridged by the United States or any State by reason of failure to pay poll tax or other tax. Whenever there is a vacancy in the office of the Vice Presi- dent, the President shall nominate a Vice President who shall take office upon confirmation by a majority vote of both Houses of Congress. Thereafter, when the President transmits to the President pro tempore of the Senate and the Speaker of the House of Representatives his written declaration that no inability ex- ists, he shall resume the powers and duties of his office un- less the Vice President and a majority of either the principal officers of the executive department or of such other body as Congress may by law provide, transmit within four days to the President pro tempore of the Senate and the Speaker of the House of Representatives their written declaration that the President is unable to discharge the powers and duties of his office. Thereupon Congress shall decide the issue, assembling within forty-eight hours for that purpose if not in session. If the Congress, within twenty-one days after receipt of the latter written declaration, or, if Congress is not in session, within twenty-one days after Congress is required to assemble, determines by two-thirds vote of both Houses that the President is unable to discharge the powers and duties of his office, the Vice President shall continue to discharge the same as Acting President; otherwise, the Presi- dent shall resume the powers and duties of his office. The right of citizens of the United States, who are eighteen years of age or older, to vote shall not be denied or abridged by the United States or by any State on account of age.\n",
            "\n",
            "-----\n",
            "\n",
            "The minimum voting age in the United States is 18 years old, as stated in the last paragraph of the provided text: \"The right of citizens of the United States, who are eighteen years of age or older, to vote shall not be denied or abridged by the United States or by any State on account of age.\"\n",
            "\n",
            "-----\n",
            "\n",
            "Querying HuggingChat again...\n",
            "\n",
            "-----\n",
            "\n",
            "And when were women given the right to vote in the United States?\n",
            "\n",
            "-----\n",
            "\n",
            "Women were given the right to vote in the United States with the passage of the 19th Amendment to the Constitution, which was ratified on August 18, 1920. The amendment states: \"The right of citizens of the United States to vote shall not be denied or abridged by the United States or by any State on account of sex.\" This amendment is mentioned in the text you provided, but the date of its passage is not explicitly stated.\n"
          ]
        }
      ]
    }
  ]
}